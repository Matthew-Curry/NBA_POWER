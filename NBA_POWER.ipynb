{
 "cells": [
  {
   "cell_type": "markdown",
   "metadata": {},
   "source": [
    "The following Jupiter Notebook seeks to compile data from 3 different Excel documents to ultimately relate Twitter engagements for a player with the player's salary and stats to see what player specfific parameters are best at determining social media popularity."
   ]
  },
  {
   "cell_type": "markdown",
   "metadata": {},
   "source": [
    "The import statements:"
   ]
  },
  {
   "cell_type": "code",
   "execution_count": 281,
   "metadata": {},
   "outputs": [],
   "source": [
    "import pandas as pd \n",
    "import statsmodels.api as sm\n",
    "import numpy as np\n",
    "import matplotlib.pyplot as plt\n",
    "import math"
   ]
  },
  {
   "cell_type": "markdown",
   "metadata": {},
   "source": [
    "Load the data frames:"
   ]
  },
  {
   "cell_type": "code",
   "execution_count": 282,
   "metadata": {},
   "outputs": [
    {
     "name": "stdout",
     "output_type": "stream",
     "text": [
      "Twitter\n",
      "size of frame: (329, 3)\n",
      "              PLAYER  TWITTER_FAVORITE_COUNT  TWITTER_RETWEET_COUNT\n",
      "0  Russell Westbrook                  2130.5                  559.0\n",
      "1       James Harden                   969.0                  321.5\n",
      "2      Isaiah Thomas                   467.5                  155.5\n",
      "3      Anthony Davis                   368.0                  104.0\n",
      "4      DeMar DeRozan                     0.0                  186.0\n",
      "Salary\n",
      "size of frame: (449, 4)\n",
      "              NAME POSITION                 TEAM      SALARY\n",
      "0     LeBron James       SF  Cleveland Cavaliers  30963450.0\n",
      "1      Mike Conley       PG    Memphis Grizzlies  26540100.0\n",
      "2       Al Horford        C       Boston Celtics  26540100.0\n",
      "3    Dirk Nowitzki       PF     Dallas Mavericks  25000000.0\n",
      "4  Carmelo Anthony       SF      New York Knicks  24559380.0\n",
      "Stats\n",
      "size of frame: (446, 38)\n",
      "   Unnamed: 0  Rk             PLAYER POSITION  AGE    MP    FG   FGA    FG%  \\\n",
      "0           0   1  Russell Westbrook       PG   28  34.6  10.2  24.0  0.425   \n",
      "1           1   2       James Harden       PG   27  36.4   8.3  18.9  0.440   \n",
      "2           2   3      Isaiah Thomas       PG   27  33.8   9.0  19.4  0.463   \n",
      "3           3   4      Anthony Davis        C   23  36.1  10.3  20.3  0.505   \n",
      "4           4   5      DeMar DeRozan       SG   27  35.4   9.7  20.9  0.467   \n",
      "\n",
      "    3P  ...  TEAM  GP   MPG  ORPM  DRPM   RPM  WINS_RPM   PIE    PACE   W  \n",
      "0  2.5  ...   OKC  81  34.6  6.74 -0.47  6.27     17.34  23.0  102.31  46  \n",
      "1  3.2  ...   HOU  81  36.4  6.38 -1.57  4.81     15.54  19.0  102.98  54  \n",
      "2  3.2  ...   BOS  76  33.8  5.72 -3.89  1.83      8.19  16.1   99.84  51  \n",
      "3  0.5  ...    NO  75  36.1  0.45  3.90  4.35     12.81  19.2  100.19  31  \n",
      "4  0.4  ...   TOR  74  35.4  2.21 -2.04  0.17      5.46  15.5   97.69  47  \n",
      "\n",
      "[5 rows x 38 columns]\n"
     ]
    }
   ],
   "source": [
    "#twitter data\n",
    "twitter = pd.read_csv(r'C:\\Users\\mattc\\OneDrive\\Desktop\\MyProjects\\social-power-nba\\nba_2017_twitter_players.csv')\n",
    "#salary data\n",
    "salary = pd.read_csv(r'C:\\Users\\mattc\\OneDrive\\Desktop\\MyProjects\\social-power-nba\\nba_2017_salary.csv')\n",
    "#player stats\n",
    "stats = pd.read_csv(r'C:\\Users\\mattc\\OneDrive\\Desktop\\MyProjects\\social-power-nba\\nba_2017_players_stats_combined.csv')\n",
    "#show the head of each dataframe\n",
    "print('Twitter')\n",
    "print('size of frame:', twitter.shape)\n",
    "print(twitter.head())\n",
    "print('Salary')\n",
    "print('size of frame:', salary.shape)\n",
    "print(salary.head())\n",
    "print('Stats')\n",
    "print('size of frame:', stats.shape)\n",
    "print(stats.head())"
   ]
  },
  {
   "cell_type": "markdown",
   "metadata": {},
   "source": [
    "Joining Data:\n",
    "The goal is to join on player"
   ]
  },
  {
   "cell_type": "code",
   "execution_count": 283,
   "metadata": {},
   "outputs": [
    {
     "name": "stdout",
     "output_type": "stream",
     "text": [
      "The shape of the df\n",
      "(330, 39)\n",
      "The head of the df\n",
      "                 TWITTER_FAVORITE_COUNT  TWITTER_RETWEET_COUNT      SALARY  \\\n",
      "Aaron Brooks                        1.0                    3.0   2700000.0   \n",
      "Aaron Gordon                       42.5                   16.0   4351320.0   \n",
      "Adreian Payne                       0.0                   13.0   2022240.0   \n",
      "Al Horford                        136.0                   71.0  26540100.0   \n",
      "Al-Farouq Aminu                    33.0                    9.0   7680965.0   \n",
      "\n",
      "                    Rk POSITION   AGE    MP   FG   FGA    FG%  ...  TEAM  \\\n",
      "Aaron Brooks     328.0       PG  32.0  13.8  1.9   4.6  0.403  ...   IND   \n",
      "Aaron Gordon     101.0       SF  21.0  28.7  4.9  10.8  0.454  ...   ORL   \n",
      "Adreian Payne    381.0       PF  25.0   7.5  1.3   3.0  0.426  ...   MIN   \n",
      "Al Horford        78.0        C  30.0  32.3  5.6  11.8  0.473  ...   BOS   \n",
      "Al-Farouq Aminu  185.0       SF  26.0  29.1  3.0   7.6  0.393  ...   POR   \n",
      "\n",
      "                   GP   MPG  ORPM  DRPM   RPM  WINS_RPM   PIE   PACE     W  \n",
      "Aaron Brooks     65.0  13.8 -1.81 -1.47 -3.28     -0.09   6.2  96.55  36.0  \n",
      "Aaron Gordon     80.0  28.7  1.25 -0.78  0.47      5.32   8.8  99.70  29.0  \n",
      "Adreian Payne    18.0   7.5 -1.69  1.36 -0.33      0.24   8.2  96.52   5.0  \n",
      "Al Horford       68.0  32.3  0.76  1.06  1.82      6.93  12.5  98.96  46.0  \n",
      "Al-Farouq Aminu  61.0  29.1 -1.86  3.13  1.27      4.86   9.2  98.38  33.0  \n",
      "\n",
      "[5 rows x 39 columns]\n",
      "the list of features in the dataframe\n",
      "Index(['TWITTER_FAVORITE_COUNT', 'TWITTER_RETWEET_COUNT', 'SALARY', 'Rk',\n",
      "       'POSITION', 'AGE', 'MP', 'FG', 'FGA', 'FG%', '3P', '3PA', '3P%', '2P',\n",
      "       '2PA', '2P%', 'eFG%', 'FT', 'FTA', 'FT%', 'ORB', 'DRB', 'TRB', 'AST',\n",
      "       'STL', 'BLK', 'TOV', 'PF', 'POINTS', 'TEAM', 'GP', 'MPG', 'ORPM',\n",
      "       'DRPM', 'RPM', 'WINS_RPM', 'PIE', 'PACE', 'W'],\n",
      "      dtype='object')\n"
     ]
    }
   ],
   "source": [
    "#the intermediate, twitter and salary. Twitter first bc size is limited by twitter\n",
    "salary.drop(['POSITION', 'TEAM'], axis = 1, inplace = True)\n",
    "inter = twitter.set_index('PLAYER').join(salary.set_index('NAME'))\n",
    "#join inter with stats\n",
    "stats.drop(stats.columns[stats.columns.str.contains('Unnamed', case = False)], axis = 1, inplace = True)\n",
    "df = inter.join(stats.set_index('PLAYER'))\n",
    "print('The shape of the df')\n",
    "print(df.shape)\n",
    "print('The head of the df')\n",
    "print(df.head())\n",
    "print('the list of features in the dataframe')\n",
    "print(df.columns)"
   ]
  },
  {
   "cell_type": "markdown",
   "metadata": {},
   "source": [
    "Later adhoc analysis found repeated rows. Eliminate."
   ]
  },
  {
   "cell_type": "code",
   "execution_count": 284,
   "metadata": {},
   "outputs": [
    {
     "name": "stdout",
     "output_type": "stream",
     "text": [
      "['Bobby Portis', 'Bobby Portis']\n"
     ]
    }
   ],
   "source": [
    "#a list names that are duplicated\n",
    "dup = []\n",
    "for i in df.index:\n",
    "    rows = list(df.index)\n",
    "    rows.remove(i)\n",
    "    for j in rows:\n",
    "        if i == j:\n",
    "            dup.append(i)\n",
    "print(dup)"
   ]
  },
  {
   "cell_type": "markdown",
   "metadata": {},
   "source": [
    "Bobby Portis is the one repeat, one of his rows should be droped. Only one so as to keep the other. Following code finds the first Bobby Portis row and drops it."
   ]
  },
  {
   "cell_type": "code",
   "execution_count": 285,
   "metadata": {},
   "outputs": [
    {
     "name": "stdout",
     "output_type": "stream",
     "text": [
      "TWITTER_FAVORITE_COUNT             37\n",
      "TWITTER_RETWEET_COUNT              73\n",
      "SALARY                    1.51632e+06\n",
      "Rk                                244\n",
      "POSITION                           PF\n",
      "AGE                                21\n",
      "MP                               15.6\n",
      "FG                                2.9\n",
      "FGA                               5.9\n",
      "FG%                             0.488\n",
      "3P                                0.5\n",
      "3PA                               1.5\n",
      "3P%                             0.333\n",
      "2P                                2.4\n",
      "2PA                               4.4\n",
      "2P%                             0.541\n",
      "eFG%                            0.531\n",
      "FT                                0.6\n",
      "FTA                               0.9\n",
      "FT%                             0.661\n",
      "ORB                               1.2\n",
      "DRB                               3.5\n",
      "TRB                               4.6\n",
      "AST                               0.5\n",
      "STL                               0.3\n",
      "BLK                               0.2\n",
      "TOV                               0.6\n",
      "PF                                1.5\n",
      "POINTS                            6.8\n",
      "TEAM                              CHI\n",
      "GP                                 64\n",
      "MPG                              15.6\n",
      "ORPM                            -1.94\n",
      "DRPM                             -0.5\n",
      "RPM                             -2.44\n",
      "WINS_RPM                         0.43\n",
      "PIE                                11\n",
      "PACE                            97.38\n",
      "W                                  30\n",
      "Name: Bobby Portis, dtype: object\n"
     ]
    }
   ],
   "source": [
    "#convert index to numeric\n",
    "df.reset_index(inplace = True)\n",
    "#iterate over df and remove first instance\n",
    "for i in range(0, len(df.index)):\n",
    "    if df.loc[i, 'index'] == 'Bobby Portis':\n",
    "        df.drop(i, axis = 0, inplace = True)\n",
    "        break\n",
    "#convert index back to player name\n",
    "df.index = df['index']\n",
    "df.drop('index', axis = 1, inplace = True)\n",
    "#verify that a singular entry for Bobby Portis now exists\n",
    "print(df.loc['Bobby Portis'])"
   ]
  },
  {
   "cell_type": "markdown",
   "metadata": {},
   "source": [
    "Should I use Twitter favorites or retweets as the dependent variable?\n",
    "Let's look at distribution of each"
   ]
  },
  {
   "cell_type": "code",
   "execution_count": 286,
   "metadata": {},
   "outputs": [
    {
     "name": "stdout",
     "output_type": "stream",
     "text": [
      "Twitter Favorites Distribution\n",
      "mean 183.409509202454\n",
      "standard deviation 877.4341624751836\n",
      "Twitter Retweets Distribution\n",
      "mean 72.70245398773007\n",
      "standard deviation 287.5946326557934\n"
     ]
    },
    {
     "data": {
      "text/plain": [
       "array([[<matplotlib.axes._subplots.AxesSubplot object at 0x000001BB944484A8>]],\n",
       "      dtype=object)"
      ]
     },
     "execution_count": 286,
     "metadata": {},
     "output_type": "execute_result"
    },
    {
     "data": {
      "image/png": "[encoded data removed]",
      "text/plain": [
       "<Figure size 432x288 with 1 Axes>"
      ]
     },
     "metadata": {
      "needs_background": "light"
     },
     "output_type": "display_data"
    },
    {
     "data": {
      "image/png": "[encoded data removed]",
      "text/plain": [
       "<Figure size 432x288 with 1 Axes>"
      ]
     },
     "metadata": {
      "needs_background": "light"
     },
     "output_type": "display_data"
    }
   ],
   "source": [
    "#twitter favorites\n",
    "print('Twitter Favorites Distribution')\n",
    "print('mean', df['TWITTER_FAVORITE_COUNT'].mean())\n",
    "print('standard deviation', df['TWITTER_FAVORITE_COUNT'].std())\n",
    "df.hist(column='TWITTER_FAVORITE_COUNT', bins = 50)\n",
    "#twitter retweets\n",
    "print('Twitter Retweets Distribution')\n",
    "print('mean', df['TWITTER_RETWEET_COUNT'].mean())\n",
    "print('standard deviation', df['TWITTER_RETWEET_COUNT'].std())\n",
    "df.hist(column='TWITTER_RETWEET_COUNT', bins = 50)"
   ]
  },
  {
   "cell_type": "markdown",
   "metadata": {},
   "source": [
    "On average, players get more favorites than retweets, but the higher favorites average is pulled up by strong outliers. Both are heavily right skewed with many 0 values. It could be effective to see which can be attributed to more players, like did more players register retweets or favorites? This way we can capture more of an effect ideally."
   ]
  },
  {
   "cell_type": "code",
   "execution_count": 287,
   "metadata": {},
   "outputs": [
    {
     "name": "stdout",
     "output_type": "stream",
     "text": [
      "The number of players with favs: 269\n",
      "The number of players with retweets: 323\n"
     ]
    }
   ],
   "source": [
    "num_player_retweets = 0 \n",
    "num_player_favs = 0\n",
    "#iterate over index and count players that register each twitter metric\n",
    "for i in df.index:\n",
    "    if df.loc[i, 'TWITTER_FAVORITE_COUNT'] !=0:\n",
    "        num_player_favs = num_player_favs +1\n",
    "    if df.loc[i, 'TWITTER_RETWEET_COUNT'] !=0:\n",
    "        num_player_retweets = num_player_retweets +1\n",
    "print('The number of players with favs:', num_player_favs)\n",
    "print('The number of players with retweets:', num_player_retweets)      "
   ]
  },
  {
   "cell_type": "markdown",
   "metadata": {},
   "source": [
    "It seems that more players register retweets. Ultimately, the higher average number of favs being pulled up by high outliers is favored by this notion."
   ]
  },
  {
   "cell_type": "markdown",
   "metadata": {},
   "source": [
    "Feature Selection:\n",
    "\n",
    "First, build a model with each term in linear form. This will allow for residuals plotted against each feature to show signs of heteroskedsatictiy, distribution for each feature, and potential configurations of appropriate functional forms. Using the residuals from a model containing all features will allow the potential for the zero conditional mean assumption to be biased to be much lower. This way, systematic patterns in the residuals are more likely to be attribuatable to misspecification of functional form rather than by systematic bias in the model from violation of zero conditional mean."
   ]
  },
  {
   "cell_type": "markdown",
   "metadata": {},
   "source": [
    "First, features need to be prepared for the basic linear model. Some of these features are catagorical and thus need to be dealt with. I need to see which these are"
   ]
  },
  {
   "cell_type": "code",
   "execution_count": 288,
   "metadata": {},
   "outputs": [
    {
     "name": "stdout",
     "output_type": "stream",
     "text": [
      "TWITTER_FAVORITE_COUNT    float64\n",
      "TWITTER_RETWEET_COUNT     float64\n",
      "SALARY                    float64\n",
      "Rk                        float64\n",
      "POSITION                   object\n",
      "AGE                       float64\n",
      "MP                        float64\n",
      "FG                        float64\n",
      "FGA                       float64\n",
      "FG%                       float64\n",
      "3P                        float64\n",
      "3PA                       float64\n",
      "3P%                       float64\n",
      "2P                        float64\n",
      "2PA                       float64\n",
      "2P%                       float64\n",
      "eFG%                      float64\n",
      "FT                        float64\n",
      "FTA                       float64\n",
      "FT%                       float64\n",
      "ORB                       float64\n",
      "DRB                       float64\n",
      "TRB                       float64\n",
      "AST                       float64\n",
      "STL                       float64\n",
      "BLK                       float64\n",
      "TOV                       float64\n",
      "PF                        float64\n",
      "POINTS                    float64\n",
      "TEAM                       object\n",
      "GP                        float64\n",
      "MPG                       float64\n",
      "ORPM                      float64\n",
      "DRPM                      float64\n",
      "RPM                       float64\n",
      "WINS_RPM                  float64\n",
      "PIE                       float64\n",
      "PACE                      float64\n",
      "W                         float64\n",
      "dtype: object\n"
     ]
    }
   ],
   "source": [
    "#print data types of each feature\n",
    "print(df.dtypes)"
   ]
  },
  {
   "cell_type": "markdown",
   "metadata": {},
   "source": [
    "Team and position need to be converted to categorical variables."
   ]
  },
  {
   "cell_type": "code",
   "execution_count": 289,
   "metadata": {},
   "outputs": [
    {
     "name": "stdout",
     "output_type": "stream",
     "text": [
      "                 TWITTER_FAVORITE_COUNT  TWITTER_RETWEET_COUNT      SALARY  \\\n",
      "index                                                                        \n",
      "Aaron Brooks                        1.0                    3.0   2700000.0   \n",
      "Aaron Gordon                       42.5                   16.0   4351320.0   \n",
      "Adreian Payne                       0.0                   13.0   2022240.0   \n",
      "Al Horford                        136.0                   71.0  26540100.0   \n",
      "Al-Farouq Aminu                    33.0                    9.0   7680965.0   \n",
      "\n",
      "                    Rk   AGE    MP   FG   FGA    FG%   3P  ...  TEAM_ORL/TOR  \\\n",
      "index                                                      ...                 \n",
      "Aaron Brooks     328.0  32.0  13.8  1.9   4.6  0.403  0.7  ...             0   \n",
      "Aaron Gordon     101.0  21.0  28.7  4.9  10.8  0.454  1.0  ...             0   \n",
      "Adreian Payne    381.0  25.0   7.5  1.3   3.0  0.426  0.2  ...             0   \n",
      "Al Horford        78.0  30.0  32.3  5.6  11.8  0.473  1.3  ...             0   \n",
      "Al-Farouq Aminu  185.0  26.0  29.1  3.0   7.6  0.393  1.1  ...             0   \n",
      "\n",
      "                 TEAM_PHI  TEAM_PHI/OKC  TEAM_PHX  TEAM_POR  TEAM_SA  \\\n",
      "index                                                                  \n",
      "Aaron Brooks            0             0         0         0        0   \n",
      "Aaron Gordon            0             0         0         0        0   \n",
      "Adreian Payne           0             0         0         0        0   \n",
      "Al Horford              0             0         0         0        0   \n",
      "Al-Farouq Aminu         0             0         0         1        0   \n",
      "\n",
      "                 TEAM_SAC  TEAM_TOR  TEAM_UTAH  TEAM_WSH  \n",
      "index                                                     \n",
      "Aaron Brooks            0         0          0         0  \n",
      "Aaron Gordon            0         0          0         0  \n",
      "Adreian Payne           0         0          0         0  \n",
      "Al Horford              0         0          0         0  \n",
      "Al-Farouq Aminu         0         0          0         0  \n",
      "\n",
      "[5 rows x 91 columns]\n"
     ]
    }
   ],
   "source": [
    "df = pd.get_dummies(df, drop_first = False)\n",
    "print(df.head())"
   ]
  },
  {
   "cell_type": "markdown",
   "metadata": {},
   "source": [
    "We now have categories. We can build the model. First, we should verify that no features contain inf or nan values"
   ]
  },
  {
   "cell_type": "code",
   "execution_count": 290,
   "metadata": {
    "scrolled": true
   },
   "outputs": [
    {
     "name": "stdout",
     "output_type": "stream",
     "text": [
      "The number of nulls in TWITTER_FAVORITE_COUNT 3\n",
      "The number of nulls in TWITTER_RETWEET_COUNT 3\n",
      "The number of nulls in SALARY 74\n",
      "The number of nulls in Rk 26\n",
      "The number of nulls in AGE 26\n",
      "The number of nulls in MP 26\n",
      "The number of nulls in FG 26\n",
      "The number of nulls in FGA 26\n",
      "The number of nulls in FG% 26\n",
      "The number of nulls in 3P 26\n",
      "The number of nulls in 3PA 26\n",
      "The number of nulls in 3P% 37\n",
      "The number of nulls in 2P 26\n",
      "The number of nulls in 2PA 26\n",
      "The number of nulls in 2P% 26\n",
      "The number of nulls in eFG% 26\n",
      "The number of nulls in FT 26\n",
      "The number of nulls in FTA 26\n",
      "The number of nulls in FT% 30\n",
      "The number of nulls in ORB 26\n",
      "The number of nulls in DRB 26\n",
      "The number of nulls in TRB 26\n",
      "The number of nulls in AST 26\n",
      "The number of nulls in STL 26\n",
      "The number of nulls in BLK 26\n",
      "The number of nulls in TOV 26\n",
      "The number of nulls in PF 26\n",
      "The number of nulls in POINTS 26\n",
      "The number of nulls in GP 26\n",
      "The number of nulls in MPG 26\n",
      "The number of nulls in ORPM 26\n",
      "The number of nulls in DRPM 26\n",
      "The number of nulls in RPM 26\n",
      "The number of nulls in WINS_RPM 26\n",
      "The number of nulls in PIE 26\n",
      "The number of nulls in PACE 26\n",
      "The number of nulls in W 26\n",
      "The number of nulls in POSITION_C 0\n",
      "The number of nulls in POSITION_PF 0\n",
      "The number of nulls in POSITION_PG 0\n",
      "The number of nulls in POSITION_SF 0\n",
      "The number of nulls in POSITION_SG 0\n",
      "The number of nulls in TEAM_ATL 0\n",
      "The number of nulls in TEAM_ATL/CLE 0\n",
      "The number of nulls in TEAM_BKN 0\n",
      "The number of nulls in TEAM_BKN/WSH 0\n",
      "The number of nulls in TEAM_BOS 0\n",
      "The number of nulls in TEAM_CHA 0\n",
      "The number of nulls in TEAM_CHI 0\n",
      "The number of nulls in TEAM_CHI/OKC 0\n",
      "The number of nulls in TEAM_CLE 0\n",
      "The number of nulls in TEAM_CLE/DAL 0\n",
      "The number of nulls in TEAM_DAL 0\n",
      "The number of nulls in TEAM_DAL/BKN 0\n",
      "The number of nulls in TEAM_DAL/PHI 0\n",
      "The number of nulls in TEAM_DEN 0\n",
      "The number of nulls in TEAM_DEN/POR 0\n",
      "The number of nulls in TEAM_DET 0\n",
      "The number of nulls in TEAM_GS 0\n",
      "The number of nulls in TEAM_GS/CHA 0\n",
      "The number of nulls in TEAM_GS/SAC 0\n",
      "The number of nulls in TEAM_HOU 0\n",
      "The number of nulls in TEAM_HOU/LAL 0\n",
      "The number of nulls in TEAM_HOU/MEM 0\n",
      "The number of nulls in TEAM_IND 0\n",
      "The number of nulls in TEAM_LAC 0\n",
      "The number of nulls in TEAM_LAL 0\n",
      "The number of nulls in TEAM_MEM 0\n",
      "The number of nulls in TEAM_MIA 0\n",
      "The number of nulls in TEAM_MIL 0\n",
      "The number of nulls in TEAM_MIL/CHA 0\n",
      "The number of nulls in TEAM_MIN 0\n",
      "The number of nulls in TEAM_NO 0\n",
      "The number of nulls in TEAM_NO/MIL 0\n",
      "The number of nulls in TEAM_NO/MIN/SAC 0\n",
      "The number of nulls in TEAM_NO/ORL 0\n",
      "The number of nulls in TEAM_NO/SAC 0\n",
      "The number of nulls in TEAM_NY 0\n",
      "The number of nulls in TEAM_NY/PHI 0\n",
      "The number of nulls in TEAM_OKC 0\n",
      "The number of nulls in TEAM_ORL 0\n",
      "The number of nulls in TEAM_ORL/TOR 0\n",
      "The number of nulls in TEAM_PHI 0\n",
      "The number of nulls in TEAM_PHI/OKC 0\n",
      "The number of nulls in TEAM_PHX 0\n",
      "The number of nulls in TEAM_POR 0\n",
      "The number of nulls in TEAM_SA 0\n",
      "The number of nulls in TEAM_SAC 0\n",
      "The number of nulls in TEAM_TOR 0\n",
      "The number of nulls in TEAM_UTAH 0\n",
      "The number of nulls in TEAM_WSH 0\n"
     ]
    }
   ],
   "source": [
    "#iterate over and place in right list if has nan or inf val\n",
    "for i in df.columns:\n",
    "    print('The number of nulls in', i , df[i].isnull().sum())"
   ]
  },
  {
   "cell_type": "markdown",
   "metadata": {},
   "source": [
    "There are many nulls in salary to the point where it may not be helpful at all to impute the values. Otherwise, the other na's all basically overlap through all the statistical categories used for prediction, and there are 3 missings for both twitter engagements which are the depdent variable. So, it makes sense to delete all na's because this is so wide spread."
   ]
  },
  {
   "cell_type": "code",
   "execution_count": 291,
   "metadata": {},
   "outputs": [],
   "source": [
    "df.dropna(inplace = True)"
   ]
  },
  {
   "cell_type": "markdown",
   "metadata": {},
   "source": [
    "There is also this problem of players that have two different teams that they played for for the season. The following code returns the number of entries that this is true for"
   ]
  },
  {
   "cell_type": "code",
   "execution_count": 292,
   "metadata": {},
   "outputs": [
    {
     "name": "stdout",
     "output_type": "stream",
     "text": [
      "22\n"
     ]
    }
   ],
   "source": [
    "#count number of players who played for multiple teams\n",
    "#get list of columns that have slash\n",
    "slash = []\n",
    "for i in list(df.columns):\n",
    "    if '/' in i:\n",
    "        slash.append(i)\n",
    "#count the number of 1's in each\n",
    "count = 0\n",
    "for i in slash:\n",
    "    count = count + df[i].sum()\n",
    "print(count)"
   ]
  },
  {
   "cell_type": "markdown",
   "metadata": {},
   "source": [
    "There are 22 players that switched teams included in the data set. Holding the extra features that in most or likely all cases only have one entry seems nonsensical. There are so many variables that go into this other than just the fact that there was an exchange between teams. So, all will be removed."
   ]
  },
  {
   "cell_type": "code",
   "execution_count": 293,
   "metadata": {},
   "outputs": [],
   "source": [
    "df.drop(slash, axis = 1, inplace = True)"
   ]
  },
  {
   "cell_type": "markdown",
   "metadata": {},
   "source": [
    "Because there are many features, I do not want to have to look through every graph to check for homoskedasticity and no patterns. The following functions deal with this"
   ]
  },
  {
   "cell_type": "code",
   "execution_count": 294,
   "metadata": {},
   "outputs": [],
   "source": [
    "#a function that returns if the correlation between residuals and a feature exceed a threshold\n",
    "def check_corr(res, x, thresh):\n",
    "    cor = np.corrcoef(x, stan_resid)[0][1]\n",
    "    if cor > thresh:\n",
    "        print(x.name, 'is correleted with the residuals by more than', thresh)\n",
    "\n",
    "#a function that returns if the difference between standard deviations divided by the larger of the two is greater than some threshold proportion\n",
    "def check_homo(res, x, thresh):\n",
    "    mid = x.median()\n",
    "    bucket_1 = []\n",
    "    bucket_2 = []\n",
    "    for i in range(0, len(res)):\n",
    "        if x[i] <= mid:\n",
    "            bucket_1.append(res[i])\n",
    "        else:\n",
    "            bucket_2.append(res[i])\n",
    "    bucket_1 = np.array(bucket_1)\n",
    "    bucket_2 = np.array(bucket_2)\n",
    "    std_1 = bucket_1.std()\n",
    "    std_2 = bucket_2.std()\n",
    "    large = 0\n",
    "    if std_1 > std_2:\n",
    "        large = std_1\n",
    "    else:\n",
    "        large = std_2\n",
    "    stan_diff = abs(std_1 - std_2)/large\n",
    "    if stan_diff > thresh:\n",
    "        print('The difference in standard deviations between', x.name, 'and the residuals is larger than the threshold of', thresh)\n",
    "    "
   ]
  },
  {
   "cell_type": "markdown",
   "metadata": {},
   "source": [
    "Build linear model and check zero conditional mean and homoskedasticity assumptions using previous set of functions:"
   ]
  },
  {
   "cell_type": "code",
   "execution_count": 295,
   "metadata": {},
   "outputs": [
    {
     "name": "stdout",
     "output_type": "stream",
     "text": [
      "The difference in standard deviations between Rk and the residuals is larger than the threshold of 0.5\n",
      "The difference in standard deviations between MP and the residuals is larger than the threshold of 0.5\n",
      "The difference in standard deviations between FG and the residuals is larger than the threshold of 0.5\n",
      "The difference in standard deviations between FGA and the residuals is larger than the threshold of 0.5\n",
      "The difference in standard deviations between FG% and the residuals is larger than the threshold of 0.5\n",
      "The difference in standard deviations between 2P and the residuals is larger than the threshold of 0.5\n",
      "The difference in standard deviations between 2PA and the residuals is larger than the threshold of 0.5\n",
      "The difference in standard deviations between FT and the residuals is larger than the threshold of 0.5\n",
      "The difference in standard deviations between FTA and the residuals is larger than the threshold of 0.5\n",
      "The difference in standard deviations between FT% and the residuals is larger than the threshold of 0.5\n",
      "The difference in standard deviations between ORB and the residuals is larger than the threshold of 0.5\n",
      "The difference in standard deviations between TRB and the residuals is larger than the threshold of 0.5\n",
      "The difference in standard deviations between AST and the residuals is larger than the threshold of 0.5\n",
      "The difference in standard deviations between TOV and the residuals is larger than the threshold of 0.5\n",
      "The difference in standard deviations between POINTS and the residuals is larger than the threshold of 0.5\n",
      "The difference in standard deviations between MPG and the residuals is larger than the threshold of 0.5\n",
      "The difference in standard deviations between ORPM and the residuals is larger than the threshold of 0.5\n",
      "The difference in standard deviations between PIE and the residuals is larger than the threshold of 0.5\n",
      "The difference in standard deviations between PACE and the residuals is larger than the threshold of 0.5\n",
      "The difference in standard deviations between TEAM_ATL and the residuals is larger than the threshold of 0.5\n",
      "The difference in standard deviations between TEAM_BKN and the residuals is larger than the threshold of 0.5\n",
      "The difference in standard deviations between TEAM_BOS and the residuals is larger than the threshold of 0.5\n",
      "The difference in standard deviations between TEAM_CHI and the residuals is larger than the threshold of 0.5\n",
      "The difference in standard deviations between TEAM_DEN and the residuals is larger than the threshold of 0.5\n",
      "The difference in standard deviations between TEAM_GS and the residuals is larger than the threshold of 0.5\n",
      "The difference in standard deviations between TEAM_HOU and the residuals is larger than the threshold of 0.5\n",
      "The difference in standard deviations between TEAM_LAC and the residuals is larger than the threshold of 0.5\n",
      "The difference in standard deviations between TEAM_LAL and the residuals is larger than the threshold of 0.5\n",
      "The difference in standard deviations between TEAM_MEM and the residuals is larger than the threshold of 0.5\n",
      "The difference in standard deviations between TEAM_NY and the residuals is larger than the threshold of 0.5\n",
      "The difference in standard deviations between TEAM_ORL and the residuals is larger than the threshold of 0.5\n",
      "The difference in standard deviations between TEAM_PHI and the residuals is larger than the threshold of 0.5\n",
      "The difference in standard deviations between TEAM_POR and the residuals is larger than the threshold of 0.5\n",
      "The difference in standard deviations between TEAM_SAC and the residuals is larger than the threshold of 0.5\n",
      "The difference in standard deviations between TEAM_TOR and the residuals is larger than the threshold of 0.5\n",
      "The difference in standard deviations between TEAM_UTAH and the residuals is larger than the threshold of 0.5\n"
     ]
    }
   ],
   "source": [
    "#the dependent variable is retweets\n",
    "y = df['TWITTER_RETWEET_COUNT']\n",
    "#the indepedent variables are all others\n",
    "X = df.drop(['TWITTER_RETWEET_COUNT','TWITTER_FAVORITE_COUNT'], axis = 1)\n",
    "#the model\n",
    "model = sm.OLS(y,sm.add_constant(X, has_constant='add')).fit()\n",
    "#plot the model residuals against each covariate\n",
    "resid = model.resid\n",
    "resid_dev = np.std(resid)\n",
    "stan_resid = np.true_divide(resid, resid_dev)\n",
    "#iterate over the features, place features the correlate highly with errors in list, graph features vs x to check homoskedasticity\n",
    "for i in df.drop(['TWITTER_RETWEET_COUNT','TWITTER_FAVORITE_COUNT'], axis = 1).columns:\n",
    "    #check corelation\n",
    "    cor_thresh = 0.1\n",
    "    check_corr(stan_resid, df[i], cor_thresh)\n",
    "    #check homoskedasticity\n",
    "    homo_thresh = 0.5\n",
    "    check_homo(stan_resid, df[i], homo_thresh)"
   ]
  },
  {
   "cell_type": "markdown",
   "metadata": {},
   "source": [
    "In many cases as depicted above, the difference in standard deviations between the two halves of the data exceeds 50% of the value of the larger of the two standard deviations. This suggests that homoskedasticity may in fact be a problem and that reservation should be taken in the statistical inference process."
   ]
  },
  {
   "cell_type": "markdown",
   "metadata": {},
   "source": [
    "The other two assumptions that need to be checked are:\n",
    "1.) normality of the error\n",
    "2.) mulicolinearity"
   ]
  },
  {
   "cell_type": "markdown",
   "metadata": {},
   "source": [
    "CHECK NORMALITY OF ERRORS:"
   ]
  },
  {
   "cell_type": "code",
   "execution_count": 296,
   "metadata": {},
   "outputs": [
    {
     "data": {
      "image/png": "[encoded data removed]",
      "text/plain": [
       "<Figure size 432x288 with 1 Axes>"
      ]
     },
     "metadata": {
      "needs_background": "light"
     },
     "output_type": "display_data"
    }
   ],
   "source": [
    "#graph the qq plot\n",
    "sm.qqplot(resid, line = 'q')\n",
    "plt.show()"
   ]
  },
  {
   "cell_type": "markdown",
   "metadata": {},
   "source": [
    "It is seemingly perfectly linear in the middle, but skewed off at the ends. Let's look at a histogram of the distribution:"
   ]
  },
  {
   "cell_type": "code",
   "execution_count": 297,
   "metadata": {},
   "outputs": [
    {
     "data": {
      "image/png": "[encoded data removed]",
      "text/plain": [
       "<Figure size 432x288 with 1 Axes>"
      ]
     },
     "metadata": {
      "needs_background": "light"
     },
     "output_type": "display_data"
    }
   ],
   "source": [
    "#a histogram of the residuals\n",
    "plt.hist(resid)\n",
    "plt.show()"
   ]
  },
  {
   "cell_type": "markdown",
   "metadata": {},
   "source": [
    "There is very large skew due to what looks like 3 large positive residuals based on the QQ plot. Let's find which players are causing the large residuals"
   ]
  },
  {
   "cell_type": "code",
   "execution_count": 298,
   "metadata": {},
   "outputs": [
    {
     "name": "stdout",
     "output_type": "stream",
     "text": [
      "The max residual is 1822.6989795386394\n",
      "The player with this residal is Derrick Rose\n",
      "The second highest residual is 1784.063632511076\n",
      "The player with this residal is Stephen Curry\n",
      "The third highest residual is 1619.512114521478\n",
      "The player with this residal is Joel Embiid\n"
     ]
    }
   ],
   "source": [
    "#sort the residuals\n",
    "resid.sort_values(inplace = True)\n",
    "#print the top 3\n",
    "print('The max residual is', list(resid)[-1])\n",
    "print('The player with this residal is', resid.index[-1])\n",
    "print('The second highest residual is', list(resid)[-2])\n",
    "print('The player with this residal is', resid.index[-2])\n",
    "print('The third highest residual is', list(resid)[-3])\n",
    "print('The player with this residal is', resid.index[-3])"
   ]
  },
  {
   "cell_type": "markdown",
   "metadata": {},
   "source": [
    "Derrick Rose had decent statistics this year, but he also had one of the highest retweet levels that seems to be disproportionate to his statistics. This makes sense because he developed a massive following due to his MVP season and injury drama. He may have been an MVP, but in this case he biases the model so he will be eliminated. Steph Curry is Steph Curry and Joel Embiid is Joel Embiid. They will be kept because they don't embody this unique case that Derrick Rose does."
   ]
  },
  {
   "cell_type": "code",
   "execution_count": 299,
   "metadata": {},
   "outputs": [],
   "source": [
    "#drop derrick rose to redefine the data frame\n",
    "df.drop(player, axis = 0, inplace = True)\n",
    "#redefine y and X\n",
    "y = df['TWITTER_RETWEET_COUNT']\n",
    "X = df.drop(['TWITTER_RETWEET_COUNT','TWITTER_FAVORITE_COUNT'], axis = 1)"
   ]
  },
  {
   "cell_type": "markdown",
   "metadata": {},
   "source": [
    "The last assumption that needs to be tested is multicolinearity:"
   ]
  },
  {
   "cell_type": "code",
   "execution_count": 300,
   "metadata": {},
   "outputs": [
    {
     "name": "stderr",
     "output_type": "stream",
     "text": [
      "C:\\Users\\mattc\\Anaconda3\\lib\\site-packages\\numpy\\core\\fromnumeric.py:2389: FutureWarning: Method .ptp is deprecated and will be removed in a future version. Use numpy.ptp instead.\n",
      "  return ptp(axis=axis, out=out, **kwargs)\n"
     ]
    }
   ],
   "source": [
    "#regress each regressor against all others and print out which feature VIF>10\n",
    "for i in df.columns:\n",
    "    x = df[i]\n",
    "    regressors = list(df.columns)\n",
    "    regressors.remove(i)\n",
    "    Z = df[regressors]\n",
    "    model_x = sm.OLS(x,sm.add_constant(Z, has_constant='add')).fit()\n",
    "    vif = 1/(1-model.rsquared)\n",
    "    if vif >= 9:\n",
    "        print(i, 'has VIF greater than 9')"
   ]
  },
  {
   "cell_type": "markdown",
   "metadata": {},
   "source": [
    "Surprisingly, no variables had a VIF that exceeds 9, implying that multicolinearity is not a huge concern in this instance. We can now build the model after making the adjustments and check for statistical signifigance"
   ]
  },
  {
   "cell_type": "code",
   "execution_count": 301,
   "metadata": {},
   "outputs": [
    {
     "name": "stdout",
     "output_type": "stream",
     "text": [
      "AST is signifigant. It has a p-value of 0.047301186058866435 The coefficent is -81.6236280642233\n",
      "BLK is signifigant. It has a p-value of 0.010639553296551035 The coefficent is 207.2233948723005\n",
      "TOV is signifigant. It has a p-value of 0.0008767991940151523 The coefficent is 277.07240085526934\n",
      "TEAM_CLE is signifigant. It has a p-value of 0.013149509606196815 The coefficent is 382.94021121906565\n",
      "TEAM_DAL is signifigant. It has a p-value of 0.02052656217397745 The coefficent is 402.4367849144121\n",
      "TEAM_PHI is signifigant. It has a p-value of 0.013500665210055314 The coefficent is 358.69407236330994\n"
     ]
    }
   ],
   "source": [
    "#the model\n",
    "model = sm.OLS(y,sm.add_constant(X, has_constant='add')).fit()\n",
    "#the alpha level\n",
    "alpha = 0.05\n",
    "#the pvalues\n",
    "pvals = model.pvalues\n",
    "#the coefficents\n",
    "coef = model.params\n",
    "#iterate over p values\n",
    "for i in range(0, len(pvals)):\n",
    "    if pvals[i]<=alpha:\n",
    "        print(pvals.index[i] , 'is signifigant. It has a p-value of', pvals[i], 'The coefficent is', coef[i])"
   ]
  },
  {
   "cell_type": "markdown",
   "metadata": {},
   "source": [
    "This analysis suggests that Blocks and Turnover ratio both postively predict retweets and are statistically signifigant at the 5% level. Blocks make sense, but turnover ratio initially seems surprising. This may be because if a player has a large turnover ratio, they likely have the ball in their hands a lot and are a bigger part of the team, which may be the cause of increased fan attention and more retweets.\n",
    "\n",
    "Interesting, assists corelate negetively with Twitter engagement. Perhaps players that accumulate more assists tend to have lower scoring averages or be less selfish players/people in general, which could be conducive to them demanding less social media precense.\n",
    "\n",
    "Three teams had a signifigant effect at the 5% level. These include Cleveland, Dallas, and Philledelphia. Clevland makes sense because at this point they had 2 of the game's top players, a third all star, and the out spoken Jr. Smith. There was much discussion regarding the \"trust the process\" fad in Philly which could explain its signifigance, as well as having one of the game's biggest stars in Embid. Dallas, on the other hand, is an anomoly based on my NBA knowledge.\n",
    "\n",
    "Remember, homoskedasticity may be violated and there is some deviation from normality, so these tests for signifigance may not be accurate."
   ]
  }
 ],
 "metadata": {
  "kernelspec": {
   "display_name": "Python 3",
   "language": "python",
   "name": "python3"
  },
  "language_info": {
   "codemirror_mode": {
    "name": "ipython",
    "version": 3
   },
   "file_extension": ".py",
   "mimetype": "text/x-python",
   "name": "python",
   "nbconvert_exporter": "python",
   "pygments_lexer": "ipython3",
   "version": "3.7.3"
  }
 },
 "nbformat": 4,
 "nbformat_minor": 2
}
